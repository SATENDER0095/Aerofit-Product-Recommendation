{
 "cells": [
  {
   "cell_type": "markdown",
   "id": "9fb2a253",
   "metadata": {},
   "source": [
    "# Importing Modules"
   ]
  },
  {
   "cell_type": "code",
   "execution_count": 2,
   "id": "57f65d6b",
   "metadata": {},
   "outputs": [],
   "source": [
    "import numpy as np\n",
    "import pandas as pd\n",
    "import matplotlib.pyplot as plt\n",
    "import seaborn as sns\n",
    "import re\n",
    "import random"
   ]
  },
  {
   "cell_type": "code",
   "execution_count": 3,
   "id": "3aed0388",
   "metadata": {},
   "outputs": [],
   "source": [
    "df = pd.read_csv(r'https://d2beiqkhq929f0.cloudfront.net/public_assets/assets/000/001/125/original/aerofit_treadmill.csv?1639992749')"
   ]
  },
  {
   "cell_type": "code",
   "execution_count": 3,
   "id": "77cab0ee",
   "metadata": {},
   "outputs": [
    {
     "data": {
      "text/html": [
       "<div>\n",
       "<style scoped>\n",
       "    .dataframe tbody tr th:only-of-type {\n",
       "        vertical-align: middle;\n",
       "    }\n",
       "\n",
       "    .dataframe tbody tr th {\n",
       "        vertical-align: top;\n",
       "    }\n",
       "\n",
       "    .dataframe thead th {\n",
       "        text-align: right;\n",
       "    }\n",
       "</style>\n",
       "<table border=\"1\" class=\"dataframe\">\n",
       "  <thead>\n",
       "    <tr style=\"text-align: right;\">\n",
       "      <th></th>\n",
       "      <th>Product</th>\n",
       "      <th>Age</th>\n",
       "      <th>Gender</th>\n",
       "      <th>Education</th>\n",
       "      <th>MaritalStatus</th>\n",
       "      <th>Usage</th>\n",
       "      <th>Fitness</th>\n",
       "      <th>Income</th>\n",
       "      <th>Miles</th>\n",
       "    </tr>\n",
       "  </thead>\n",
       "  <tbody>\n",
       "    <tr>\n",
       "      <th>0</th>\n",
       "      <td>KP281</td>\n",
       "      <td>18</td>\n",
       "      <td>Male</td>\n",
       "      <td>14</td>\n",
       "      <td>Single</td>\n",
       "      <td>3</td>\n",
       "      <td>4</td>\n",
       "      <td>29562</td>\n",
       "      <td>112</td>\n",
       "    </tr>\n",
       "    <tr>\n",
       "      <th>1</th>\n",
       "      <td>KP281</td>\n",
       "      <td>19</td>\n",
       "      <td>Male</td>\n",
       "      <td>15</td>\n",
       "      <td>Single</td>\n",
       "      <td>2</td>\n",
       "      <td>3</td>\n",
       "      <td>31836</td>\n",
       "      <td>75</td>\n",
       "    </tr>\n",
       "    <tr>\n",
       "      <th>2</th>\n",
       "      <td>KP281</td>\n",
       "      <td>19</td>\n",
       "      <td>Female</td>\n",
       "      <td>14</td>\n",
       "      <td>Partnered</td>\n",
       "      <td>4</td>\n",
       "      <td>3</td>\n",
       "      <td>30699</td>\n",
       "      <td>66</td>\n",
       "    </tr>\n",
       "    <tr>\n",
       "      <th>3</th>\n",
       "      <td>KP281</td>\n",
       "      <td>19</td>\n",
       "      <td>Male</td>\n",
       "      <td>12</td>\n",
       "      <td>Single</td>\n",
       "      <td>3</td>\n",
       "      <td>3</td>\n",
       "      <td>32973</td>\n",
       "      <td>85</td>\n",
       "    </tr>\n",
       "    <tr>\n",
       "      <th>4</th>\n",
       "      <td>KP281</td>\n",
       "      <td>20</td>\n",
       "      <td>Male</td>\n",
       "      <td>13</td>\n",
       "      <td>Partnered</td>\n",
       "      <td>4</td>\n",
       "      <td>2</td>\n",
       "      <td>35247</td>\n",
       "      <td>47</td>\n",
       "    </tr>\n",
       "    <tr>\n",
       "      <th>...</th>\n",
       "      <td>...</td>\n",
       "      <td>...</td>\n",
       "      <td>...</td>\n",
       "      <td>...</td>\n",
       "      <td>...</td>\n",
       "      <td>...</td>\n",
       "      <td>...</td>\n",
       "      <td>...</td>\n",
       "      <td>...</td>\n",
       "    </tr>\n",
       "    <tr>\n",
       "      <th>175</th>\n",
       "      <td>KP781</td>\n",
       "      <td>40</td>\n",
       "      <td>Male</td>\n",
       "      <td>21</td>\n",
       "      <td>Single</td>\n",
       "      <td>6</td>\n",
       "      <td>5</td>\n",
       "      <td>83416</td>\n",
       "      <td>200</td>\n",
       "    </tr>\n",
       "    <tr>\n",
       "      <th>176</th>\n",
       "      <td>KP781</td>\n",
       "      <td>42</td>\n",
       "      <td>Male</td>\n",
       "      <td>18</td>\n",
       "      <td>Single</td>\n",
       "      <td>5</td>\n",
       "      <td>4</td>\n",
       "      <td>89641</td>\n",
       "      <td>200</td>\n",
       "    </tr>\n",
       "    <tr>\n",
       "      <th>177</th>\n",
       "      <td>KP781</td>\n",
       "      <td>45</td>\n",
       "      <td>Male</td>\n",
       "      <td>16</td>\n",
       "      <td>Single</td>\n",
       "      <td>5</td>\n",
       "      <td>5</td>\n",
       "      <td>90886</td>\n",
       "      <td>160</td>\n",
       "    </tr>\n",
       "    <tr>\n",
       "      <th>178</th>\n",
       "      <td>KP781</td>\n",
       "      <td>47</td>\n",
       "      <td>Male</td>\n",
       "      <td>18</td>\n",
       "      <td>Partnered</td>\n",
       "      <td>4</td>\n",
       "      <td>5</td>\n",
       "      <td>104581</td>\n",
       "      <td>120</td>\n",
       "    </tr>\n",
       "    <tr>\n",
       "      <th>179</th>\n",
       "      <td>KP781</td>\n",
       "      <td>48</td>\n",
       "      <td>Male</td>\n",
       "      <td>18</td>\n",
       "      <td>Partnered</td>\n",
       "      <td>4</td>\n",
       "      <td>5</td>\n",
       "      <td>95508</td>\n",
       "      <td>180</td>\n",
       "    </tr>\n",
       "  </tbody>\n",
       "</table>\n",
       "<p>180 rows × 9 columns</p>\n",
       "</div>"
      ],
      "text/plain": [
       "    Product  Age  Gender  Education MaritalStatus  Usage  Fitness  Income  \\\n",
       "0     KP281   18    Male         14        Single      3        4   29562   \n",
       "1     KP281   19    Male         15        Single      2        3   31836   \n",
       "2     KP281   19  Female         14     Partnered      4        3   30699   \n",
       "3     KP281   19    Male         12        Single      3        3   32973   \n",
       "4     KP281   20    Male         13     Partnered      4        2   35247   \n",
       "..      ...  ...     ...        ...           ...    ...      ...     ...   \n",
       "175   KP781   40    Male         21        Single      6        5   83416   \n",
       "176   KP781   42    Male         18        Single      5        4   89641   \n",
       "177   KP781   45    Male         16        Single      5        5   90886   \n",
       "178   KP781   47    Male         18     Partnered      4        5  104581   \n",
       "179   KP781   48    Male         18     Partnered      4        5   95508   \n",
       "\n",
       "     Miles  \n",
       "0      112  \n",
       "1       75  \n",
       "2       66  \n",
       "3       85  \n",
       "4       47  \n",
       "..     ...  \n",
       "175    200  \n",
       "176    200  \n",
       "177    160  \n",
       "178    120  \n",
       "179    180  \n",
       "\n",
       "[180 rows x 9 columns]"
      ]
     },
     "execution_count": 3,
     "metadata": {},
     "output_type": "execute_result"
    }
   ],
   "source": [
    "df"
   ]
  },
  {
   "cell_type": "code",
   "execution_count": 4,
   "id": "d4612e87",
   "metadata": {},
   "outputs": [
    {
     "data": {
      "text/html": [
       "<div>\n",
       "<style scoped>\n",
       "    .dataframe tbody tr th:only-of-type {\n",
       "        vertical-align: middle;\n",
       "    }\n",
       "\n",
       "    .dataframe tbody tr th {\n",
       "        vertical-align: top;\n",
       "    }\n",
       "\n",
       "    .dataframe thead th {\n",
       "        text-align: right;\n",
       "    }\n",
       "</style>\n",
       "<table border=\"1\" class=\"dataframe\">\n",
       "  <thead>\n",
       "    <tr style=\"text-align: right;\">\n",
       "      <th></th>\n",
       "      <th>Age</th>\n",
       "      <th>Education</th>\n",
       "      <th>Usage</th>\n",
       "      <th>Fitness</th>\n",
       "      <th>Income</th>\n",
       "      <th>Miles</th>\n",
       "    </tr>\n",
       "  </thead>\n",
       "  <tbody>\n",
       "    <tr>\n",
       "      <th>count</th>\n",
       "      <td>180.000000</td>\n",
       "      <td>180.000000</td>\n",
       "      <td>180.000000</td>\n",
       "      <td>180.000000</td>\n",
       "      <td>180.000000</td>\n",
       "      <td>180.000000</td>\n",
       "    </tr>\n",
       "    <tr>\n",
       "      <th>mean</th>\n",
       "      <td>28.788889</td>\n",
       "      <td>15.572222</td>\n",
       "      <td>3.455556</td>\n",
       "      <td>3.311111</td>\n",
       "      <td>53719.577778</td>\n",
       "      <td>103.194444</td>\n",
       "    </tr>\n",
       "    <tr>\n",
       "      <th>std</th>\n",
       "      <td>6.943498</td>\n",
       "      <td>1.617055</td>\n",
       "      <td>1.084797</td>\n",
       "      <td>0.958869</td>\n",
       "      <td>16506.684226</td>\n",
       "      <td>51.863605</td>\n",
       "    </tr>\n",
       "    <tr>\n",
       "      <th>min</th>\n",
       "      <td>18.000000</td>\n",
       "      <td>12.000000</td>\n",
       "      <td>2.000000</td>\n",
       "      <td>1.000000</td>\n",
       "      <td>29562.000000</td>\n",
       "      <td>21.000000</td>\n",
       "    </tr>\n",
       "    <tr>\n",
       "      <th>25%</th>\n",
       "      <td>24.000000</td>\n",
       "      <td>14.000000</td>\n",
       "      <td>3.000000</td>\n",
       "      <td>3.000000</td>\n",
       "      <td>44058.750000</td>\n",
       "      <td>66.000000</td>\n",
       "    </tr>\n",
       "    <tr>\n",
       "      <th>50%</th>\n",
       "      <td>26.000000</td>\n",
       "      <td>16.000000</td>\n",
       "      <td>3.000000</td>\n",
       "      <td>3.000000</td>\n",
       "      <td>50596.500000</td>\n",
       "      <td>94.000000</td>\n",
       "    </tr>\n",
       "    <tr>\n",
       "      <th>75%</th>\n",
       "      <td>33.000000</td>\n",
       "      <td>16.000000</td>\n",
       "      <td>4.000000</td>\n",
       "      <td>4.000000</td>\n",
       "      <td>58668.000000</td>\n",
       "      <td>114.750000</td>\n",
       "    </tr>\n",
       "    <tr>\n",
       "      <th>max</th>\n",
       "      <td>50.000000</td>\n",
       "      <td>21.000000</td>\n",
       "      <td>7.000000</td>\n",
       "      <td>5.000000</td>\n",
       "      <td>104581.000000</td>\n",
       "      <td>360.000000</td>\n",
       "    </tr>\n",
       "  </tbody>\n",
       "</table>\n",
       "</div>"
      ],
      "text/plain": [
       "              Age   Education       Usage     Fitness         Income  \\\n",
       "count  180.000000  180.000000  180.000000  180.000000     180.000000   \n",
       "mean    28.788889   15.572222    3.455556    3.311111   53719.577778   \n",
       "std      6.943498    1.617055    1.084797    0.958869   16506.684226   \n",
       "min     18.000000   12.000000    2.000000    1.000000   29562.000000   \n",
       "25%     24.000000   14.000000    3.000000    3.000000   44058.750000   \n",
       "50%     26.000000   16.000000    3.000000    3.000000   50596.500000   \n",
       "75%     33.000000   16.000000    4.000000    4.000000   58668.000000   \n",
       "max     50.000000   21.000000    7.000000    5.000000  104581.000000   \n",
       "\n",
       "            Miles  \n",
       "count  180.000000  \n",
       "mean   103.194444  \n",
       "std     51.863605  \n",
       "min     21.000000  \n",
       "25%     66.000000  \n",
       "50%     94.000000  \n",
       "75%    114.750000  \n",
       "max    360.000000  "
      ]
     },
     "execution_count": 4,
     "metadata": {},
     "output_type": "execute_result"
    }
   ],
   "source": [
    "df.describe()"
   ]
  },
  {
   "cell_type": "code",
   "execution_count": 5,
   "id": "6202a7cb",
   "metadata": {},
   "outputs": [
    {
     "data": {
      "text/plain": [
       "array(['KP281', 'KP481', 'KP781'], dtype=object)"
      ]
     },
     "execution_count": 5,
     "metadata": {},
     "output_type": "execute_result"
    }
   ],
   "source": [
    " df['Product'].unique()"
   ]
  },
  {
   "cell_type": "code",
   "execution_count": 11,
   "id": "1bc5fb8e",
   "metadata": {},
   "outputs": [
    {
     "name": "stdout",
     "output_type": "stream",
     "text": [
      "Product:- {'KP281': 80, 'KP481': 60, 'KP781': 40}\n",
      "Age:- {25: 25, 23: 18, 24: 12, 26: 12, 28: 9, 35: 8, 33: 8, 30: 7, 38: 7, 21: 7, 22: 7, 27: 7, 31: 6, 34: 6, 29: 6, 20: 5, 40: 5, 32: 4, 19: 4, 48: 2, 37: 2, 45: 2, 47: 2, 46: 1, 50: 1, 18: 1, 44: 1, 43: 1, 41: 1, 39: 1, 36: 1, 42: 1}\n",
      "Gender:- {'Male': 104, 'Female': 76}\n",
      "Education:- {16: 85, 14: 55, 18: 23, 15: 5, 13: 5, 12: 3, 21: 3, 20: 1}\n",
      "MaritalStatus:- {'Partnered': 107, 'Single': 73}\n",
      "Usage:- {3: 69, 4: 52, 2: 33, 5: 17, 6: 7, 7: 2}\n",
      "Fitness:- {3: 97, 5: 31, 2: 26, 4: 24, 1: 2}\n",
      "Income:- {45480: 14, 52302: 9, 46617: 8, 54576: 8, 53439: 8, 50028: 7, 51165: 7, 40932: 6, 48891: 5, 32973: 5, 35247: 5, 38658: 5, 34110: 5, 43206: 5, 57987: 4, 44343: 4, 36384: 4, 64809: 3, 90886: 3, 60261: 3, 92131: 3, 59124: 3, 88396: 2, 49801: 2, 83416: 2, 64741: 2, 61006: 2, 48556: 2, 31836: 2, 47754: 2, 89641: 2, 61398: 2, 56850: 2, 67083: 2, 42069: 2, 39795: 2, 37521: 2, 104581: 2, 99601: 1, 103336: 1, 85906: 1, 52290: 1, 77191: 1, 74701: 1, 95866: 1, 69721: 1, 29562: 1, 75946: 1, 70966: 1, 62251: 1, 52291: 1, 57271: 1, 53536: 1, 58516: 1, 54781: 1, 48658: 1, 62535: 1, 65220: 1, 55713: 1, 68220: 1, 30699: 1, 95508: 1}\n",
      "Miles:- {85: 27, 95: 12, 66: 10, 75: 10, 47: 9, 106: 9, 94: 8, 113: 8, 53: 7, 100: 7, 180: 6, 200: 6, 56: 6, 64: 6, 127: 5, 160: 5, 42: 4, 150: 4, 38: 3, 74: 3, 170: 3, 120: 3, 103: 3, 132: 2, 141: 2, 280: 1, 260: 1, 300: 1, 240: 1, 112: 1, 212: 1, 80: 1, 140: 1, 21: 1, 169: 1, 188: 1, 360: 1}\n"
     ]
    }
   ],
   "source": [
    "for i in list(df.columns):\n",
    "    print(f'{i}:- {dict(df[i].value_counts())}')"
   ]
  },
  {
   "cell_type": "code",
   "execution_count": 12,
   "id": "3425302e",
   "metadata": {},
   "outputs": [
    {
     "name": "stdout",
     "output_type": "stream",
     "text": [
      "Product:- ['KP281', 'KP481', 'KP781']\n",
      "Age:- [18, 19, 20, 21, 22, 23, 24, 25, 26, 27, 28, 29, 30, 31, 32, 33, 34, 35, 36, 37, 38, 39, 40, 41, 43, 44, 46, 47, 50, 45, 48, 42]\n",
      "Gender:- ['Male', 'Female']\n",
      "Education:- [14, 15, 12, 13, 16, 18, 20, 21]\n",
      "MaritalStatus:- ['Single', 'Partnered']\n",
      "Usage:- [3, 2, 4, 5, 6, 7]\n",
      "Fitness:- [4, 3, 2, 1, 5]\n",
      "Income:- [29562, 31836, 30699, 32973, 35247, 37521, 36384, 38658, 40932, 34110, 39795, 42069, 44343, 45480, 46617, 48891, 53439, 43206, 52302, 51165, 50028, 54576, 68220, 55713, 60261, 67083, 56850, 59124, 61398, 57987, 64809, 47754, 65220, 62535, 48658, 54781, 48556, 58516, 53536, 61006, 57271, 52291, 49801, 62251, 64741, 70966, 75946, 74701, 69721, 83416, 88396, 90886, 92131, 77191, 52290, 85906, 103336, 99601, 89641, 95866, 104581, 95508]\n",
      "Miles:- [112, 75, 66, 85, 47, 141, 103, 94, 113, 38, 188, 56, 132, 169, 64, 53, 106, 95, 212, 42, 127, 74, 170, 21, 120, 200, 140, 100, 80, 160, 180, 240, 150, 300, 280, 260, 360]\n"
     ]
    }
   ],
   "source": [
    "for i in list(df.columns):\n",
    "    print(f'{i}:- {list(df[i].unique())}')"
   ]
  },
  {
   "cell_type": "code",
   "execution_count": 6,
   "id": "e1cb31ec",
   "metadata": {},
   "outputs": [
    {
     "data": {
      "text/plain": [
       "Index(['Product', 'Age', 'Gender', 'Education', 'MaritalStatus', 'Usage',\n",
       "       'Fitness', 'Income', 'Miles'],\n",
       "      dtype='object')"
      ]
     },
     "execution_count": 6,
     "metadata": {},
     "output_type": "execute_result"
    }
   ],
   "source": [
    "df.columns"
   ]
  },
  {
   "cell_type": "code",
   "execution_count": 7,
   "id": "67fa54ee",
   "metadata": {},
   "outputs": [
    {
     "data": {
      "text/plain": [
       "array(['Single', 'Partnered'], dtype=object)"
      ]
     },
     "execution_count": 7,
     "metadata": {},
     "output_type": "execute_result"
    }
   ],
   "source": [
    "df['MaritalStatus'].unique()"
   ]
  },
  {
   "cell_type": "code",
   "execution_count": 8,
   "id": "0f0f51ed",
   "metadata": {},
   "outputs": [
    {
     "data": {
      "text/plain": [
       "array([3, 2, 4, 5, 6, 7], dtype=int64)"
      ]
     },
     "execution_count": 8,
     "metadata": {},
     "output_type": "execute_result"
    }
   ],
   "source": [
    "df['Usage'].unique()"
   ]
  },
  {
   "cell_type": "code",
   "execution_count": 9,
   "id": "f84fb621",
   "metadata": {},
   "outputs": [
    {
     "data": {
      "text/plain": [
       "array([14, 15, 12, 13, 16, 18, 20, 21], dtype=int64)"
      ]
     },
     "execution_count": 9,
     "metadata": {},
     "output_type": "execute_result"
    }
   ],
   "source": [
    "df['Education'].unique()"
   ]
  },
  {
   "cell_type": "code",
   "execution_count": 14,
   "id": "4a9ca4d2",
   "metadata": {},
   "outputs": [
    {
     "data": {
      "image/png": "[encoded data removed]",
      "text/plain": [
       "<Figure size 432x288 with 1 Axes>"
      ]
     },
     "metadata": {
      "needs_background": "light"
     },
     "output_type": "display_data"
    }
   ],
   "source": [
    "df['Age'].plot.hist(bins=20)\n",
    "plt.title('Age')\n",
    "plt.show()"
   ]
  },
  {
   "cell_type": "code",
   "execution_count": 15,
   "id": "ada51723",
   "metadata": {},
   "outputs": [
    {
     "data": {
      "image/png": "[encoded data removed]",
      "text/plain": [
       "<Figure size 432x288 with 1 Axes>"
      ]
     },
     "metadata": {
      "needs_background": "light"
     },
     "output_type": "display_data"
    }
   ],
   "source": [
    "sns.histplot(data=df,x='Age',y='Income',color='aqua')\n",
    "plt.title('Age vs Income')\n",
    "plt.grid()\n",
    "plt.show()"
   ]
  },
  {
   "cell_type": "code",
   "execution_count": 16,
   "id": "fa1bac75",
   "metadata": {},
   "outputs": [
    {
     "data": {
      "image/png": "[encoded data removed]",
      "text/plain": [
       "<Figure size 432x288 with 1 Axes>"
      ]
     },
     "metadata": {
      "needs_background": "light"
     },
     "output_type": "display_data"
    }
   ],
   "source": [
    "df.plot.scatter(x='Age',y='Income')\n",
    "plt.title('Age vs Income')\n",
    "plt.show()"
   ]
  },
  {
   "cell_type": "code",
   "execution_count": 17,
   "id": "6612c587",
   "metadata": {},
   "outputs": [
    {
     "data": {
      "text/plain": [
       "<Figure size 1800x1800 with 0 Axes>"
      ]
     },
     "metadata": {},
     "output_type": "display_data"
    },
    {
     "data": {
      "image/png": "[encoded data removed]",
      "text/plain": [
       "<Figure size 432x288 with 1 Axes>"
      ]
     },
     "metadata": {
      "needs_background": "light"
     },
     "output_type": "display_data"
    }
   ],
   "source": [
    "plt.figure(figsize=(25,25))\n",
    "df.plot.box(by='Age',column='Income')\n",
    "plt.title('Age vs Income') \n",
    "plt.show()"
   ]
  },
  {
   "cell_type": "code",
   "execution_count": 34,
   "id": "e2ff02fc",
   "metadata": {},
   "outputs": [
    {
     "data": {
      "image/png": "[encoded data removed]",
      "text/plain": [
       "<Figure size 432x288 with 1 Axes>"
      ]
     },
     "metadata": {
      "needs_background": "light"
     },
     "output_type": "display_data"
    }
   ],
   "source": [
    "df['Income'].plot.box()\n",
    "plt.grid()\n",
    "plt.title('Income')\n",
    "plt.show()"
   ]
  },
  {
   "cell_type": "code",
   "execution_count": 19,
   "id": "8c87e024",
   "metadata": {},
   "outputs": [
    {
     "data": {
      "image/png": "[encoded data removed]",
      "text/plain": [
       "<Figure size 432x288 with 1 Axes>"
      ]
     },
     "metadata": {
      "needs_background": "light"
     },
     "output_type": "display_data"
    }
   ],
   "source": [
    "df['Income'].plot.density()\n",
    "plt.title('Income')\n",
    "plt.show()"
   ]
  },
  {
   "cell_type": "code",
   "execution_count": 20,
   "id": "781698d5",
   "metadata": {},
   "outputs": [
    {
     "data": {
      "image/png": "[encoded data removed]",
      "text/plain": [
       "<Figure size 432x288 with 1 Axes>"
      ]
     },
     "metadata": {
      "needs_background": "light"
     },
     "output_type": "display_data"
    }
   ],
   "source": [
    "df.plot.scatter(x='Fitness',y='Usage')\n",
    "plt.title('Fitness vs Usage')\n",
    "plt.show()"
   ]
  },
  {
   "cell_type": "code",
   "execution_count": 21,
   "id": "269b2959",
   "metadata": {},
   "outputs": [
    {
     "data": {
      "image/png": "[encoded data removed]",
      "text/plain": [
       "<Figure size 432x288 with 1 Axes>"
      ]
     },
     "metadata": {
      "needs_background": "light"
     },
     "output_type": "display_data"
    }
   ],
   "source": [
    "df.plot.scatter(x='Fitness',y='Miles')\n",
    "plt.title('Fitness vs Miles')\n",
    "plt.show()"
   ]
  },
  {
   "cell_type": "code",
   "execution_count": 23,
   "id": "167bcc58",
   "metadata": {},
   "outputs": [
    {
     "data": {
      "image/png": "[encoded data removed]",
      "text/plain": [
       "<Figure size 432x288 with 1 Axes>"
      ]
     },
     "metadata": {
      "needs_background": "light"
     },
     "output_type": "display_data"
    }
   ],
   "source": [
    "df.plot.scatter(x='Fitness',y='Product')\n",
    "plt.title('Fitness vs Product')\n",
    "plt.show()"
   ]
  },
  {
   "cell_type": "code",
   "execution_count": 24,
   "id": "1624161b",
   "metadata": {},
   "outputs": [
    {
     "data": {
      "image/png": "[encoded data removed]",
      "text/plain": [
       "<Figure size 432x288 with 1 Axes>"
      ]
     },
     "metadata": {
      "needs_background": "light"
     },
     "output_type": "display_data"
    }
   ],
   "source": [
    "df.plot.scatter(x='Miles',y='Product')\n",
    "plt.title('Miles vs Product')\n",
    "plt.show()"
   ]
  },
  {
   "cell_type": "code",
   "execution_count": 25,
   "id": "ffdbc899",
   "metadata": {},
   "outputs": [
    {
     "data": {
      "image/png": "[encoded data removed]",
      "text/plain": [
       "<Figure size 432x288 with 1 Axes>"
      ]
     },
     "metadata": {
      "needs_background": "light"
     },
     "output_type": "display_data"
    }
   ],
   "source": [
    "df.plot.box(by='Fitness',column='Income')\n",
    "plt.title('Fitness vs Income')\n",
    "plt.show()"
   ]
  },
  {
   "cell_type": "code",
   "execution_count": 26,
   "id": "7864605e",
   "metadata": {},
   "outputs": [
    {
     "data": {
      "image/png": "[encoded data removed]",
      "text/plain": [
       "<Figure size 432x288 with 1 Axes>"
      ]
     },
     "metadata": {
      "needs_background": "light"
     },
     "output_type": "display_data"
    }
   ],
   "source": [
    "df.plot.box(by='Fitness',column='Age')\n",
    "plt.title('Fitness vs Age')\n",
    "plt.show()"
   ]
  },
  {
   "cell_type": "code",
   "execution_count": 27,
   "id": "330ca26d",
   "metadata": {},
   "outputs": [
    {
     "data": {
      "image/png": "[encoded data removed]",
      "text/plain": [
       "<Figure size 432x288 with 1 Axes>"
      ]
     },
     "metadata": {
      "needs_background": "light"
     },
     "output_type": "display_data"
    }
   ],
   "source": [
    "df.plot.box(by='Fitness',column='Usage')\n",
    "plt.title('Fitness vs Usage')\n",
    "plt.show()"
   ]
  },
  {
   "cell_type": "code",
   "execution_count": 28,
   "id": "adbb4076",
   "metadata": {},
   "outputs": [
    {
     "data": {
      "image/png": "[encoded data removed]",
      "text/plain": [
       "<Figure size 432x288 with 1 Axes>"
      ]
     },
     "metadata": {
      "needs_background": "light"
     },
     "output_type": "display_data"
    }
   ],
   "source": [
    "df.plot.box(by='Usage',column='Age')\n",
    "plt.title(' Usage vs Age')\n",
    "plt.show()"
   ]
  },
  {
   "cell_type": "code",
   "execution_count": 22,
   "id": "618b6e91",
   "metadata": {},
   "outputs": [
    {
     "data": {
      "text/plain": [
       "count    180.000000\n",
       "mean      28.788889\n",
       "std        6.943498\n",
       "min       18.000000\n",
       "25%       24.000000\n",
       "50%       26.000000\n",
       "75%       33.000000\n",
       "max       50.000000\n",
       "Name: Age, dtype: float64"
      ]
     },
     "execution_count": 22,
     "metadata": {},
     "output_type": "execute_result"
    }
   ],
   "source": [
    "df['Age'].describe()"
   ]
  },
  {
   "cell_type": "code",
   "execution_count": 29,
   "id": "3df46089",
   "metadata": {},
   "outputs": [
    {
     "data": {
      "image/png": "[encoded data removed]",
      "text/plain": [
       "<Figure size 432x288 with 1 Axes>"
      ]
     },
     "metadata": {
      "needs_background": "light"
     },
     "output_type": "display_data"
    }
   ],
   "source": [
    "df.plot.scatter(x='Usage',y='Product')\n",
    "plt.title('Usage vs Product')\n",
    "plt.show()"
   ]
  },
  {
   "cell_type": "code",
   "execution_count": 24,
   "id": "96f6dc34",
   "metadata": {},
   "outputs": [
    {
     "name": "stdout",
     "output_type": "stream",
     "text": [
      "Probability that single person buy the Machine is 40.56 \n",
      "Probability that Partnered person buy the Machine is 59.44\n"
     ]
    }
   ],
   "source": [
    "#prob that single will buy\n",
    "\n",
    "p = df[df['MaritalStatus'] == 'Partnered']['MaritalStatus'].count()\n",
    "s = df[df['MaritalStatus'] == 'Single']['MaritalStatus'].count()\n",
    "\n",
    "prob_p = ((p/df['MaritalStatus'].count())*100).round(2)\n",
    "prob_s = ((s/df['MaritalStatus'].count())*100).round(2)\n",
    "\n",
    "print(f'Probability that single person buy the Machine is {prob_s} \\nProbability that Partnered person buy the Machine is {prob_p}')"
   ]
  },
  {
   "cell_type": "code",
   "execution_count": 25,
   "id": "7c8b5750",
   "metadata": {},
   "outputs": [
    {
     "name": "stdout",
     "output_type": "stream",
     "text": [
      "Probability that Single person buy Machine KP281 is 43.84\n",
      "Probability that Single person buy Machine KP481 is 32.88\n",
      "Probability that Single person buy Machine KP781 is 23.29\n"
     ]
    }
   ],
   "source": [
    "#checkng which machine is bought by singles most\n",
    "\n",
    "p_df = df[df['MaritalStatus'] == 'Single'][['Product','MaritalStatus']]\n",
    "P1 = p_df[p_df['Product']=='KP281']['Product'].count()\n",
    "P2 = p_df[p_df['Product']=='KP481']['Product'].count()\n",
    "P3 = p_df[p_df['Product']=='KP781']['Product'].count()\n",
    "\n",
    "prob_p1 = ((P1/(P1+P2+P3))*100).round(2)\n",
    "prob_p2 = ((P2/(P1+P2+P3))*100).round(2)\n",
    "prob_p3 = ((P3/(P1+P2+P3))*100).round(2)\n",
    "print(f'Probability that Single person buy Machine KP281 is {prob_p1}\\nProbability that Single person buy Machine KP481 is {prob_p2}\\nProbability that Single person buy Machine KP781 is {prob_p3}')"
   ]
  },
  {
   "cell_type": "code",
   "execution_count": 26,
   "id": "89cd862b",
   "metadata": {},
   "outputs": [
    {
     "name": "stdout",
     "output_type": "stream",
     "text": [
      "Probability that Partnered person buy Machine KP281 is 44.86\n",
      "Probability that Partnered person buy Machine KP481 is 33.64\n",
      "Probability that Partnered person buy Machine KP781 is 21.5\n"
     ]
    }
   ],
   "source": [
    "#checkng which machine is bought by partnered most\n",
    "\n",
    "p_df = df[df['MaritalStatus'] == 'Partnered'][['Product','MaritalStatus']]\n",
    "P1 = p_df[p_df['Product']=='KP281']['Product'].count()\n",
    "P2 = p_df[p_df['Product']=='KP481']['Product'].count()\n",
    "P3 = p_df[p_df['Product']=='KP781']['Product'].count()\n",
    "\n",
    "prob_p1 = ((P1/(P1+P2+P3))*100).round(2)\n",
    "prob_p2 = ((P2/(P1+P2+P3))*100).round(2)\n",
    "prob_p3 = ((P3/(P1+P2+P3))*100).round(2)\n",
    "print(f'Probability that Partnered person buy Machine KP281 is {prob_p1}\\nProbability that Partnered person buy Machine KP481 is {prob_p2}\\nProbability that Partnered person buy Machine KP781 is {prob_p3}')"
   ]
  },
  {
   "cell_type": "code",
   "execution_count": 30,
   "id": "1802c9c2",
   "metadata": {},
   "outputs": [
    {
     "data": {
      "image/png": "[encoded data removed]",
      "text/plain": [
       "<Figure size 432x288 with 1 Axes>"
      ]
     },
     "metadata": {
      "needs_background": "light"
     },
     "output_type": "display_data"
    }
   ],
   "source": [
    "df.plot.scatter(x='Age',y='Product')\n",
    "plt.title('Age vs Product')\n",
    "plt.show()"
   ]
  },
  {
   "cell_type": "code",
   "execution_count": 28,
   "id": "c197ad63",
   "metadata": {},
   "outputs": [
    {
     "name": "stdout",
     "output_type": "stream",
     "text": [
      "Probability that Female person buy the Machine is 42.22 \n",
      "Probability that Male person buy the Machine is 57.78\n"
     ]
    }
   ],
   "source": [
    "#prob on Gender based\n",
    "\n",
    "\n",
    "m = df[df['Gender'] == 'Male']['Gender'].count()\n",
    "f = df[df['Gender'] == 'Female']['Gender'].count()\n",
    "\n",
    "prob_m = ((m/df['Gender'].count())*100).round(2)\n",
    "prob_f = ((f/df['Gender'].count())*100).round(2)\n",
    "\n",
    "print(f'Probability that Female person buy the Machine is {prob_f} \\nProbability that Male person buy the Machine is {prob_m}')"
   ]
  },
  {
   "cell_type": "code",
   "execution_count": 29,
   "id": "52e30e33",
   "metadata": {},
   "outputs": [
    {
     "name": "stdout",
     "output_type": "stream",
     "text": [
      "Probability that Male person buy Machine KP281 is 38.46\n",
      "Probability that Male person buy Machine KP481 is 29.81\n",
      "Probability that Male person buy Machine KP781 is 31.73\n"
     ]
    }
   ],
   "source": [
    "#checkng which machine is bought by Males most\n",
    "\n",
    "m_df = df[df['Gender'] == 'Male'][['Product','Gender']]\n",
    "M1 = m_df[m_df['Product']=='KP281']['Product'].count()\n",
    "M2 = m_df[m_df['Product']=='KP481']['Product'].count()\n",
    "M3 = m_df[m_df['Product']=='KP781']['Product'].count()\n",
    "\n",
    "prob_m1 = ((M1/(M1+M2+M3))*100).round(2)\n",
    "prob_m2 = ((M2/(M1+M2+M3))*100).round(2)\n",
    "prob_m3 = ((M3/(M1+M2+M3))*100).round(2)\n",
    "print(f'Probability that Male person buy Machine KP281 is {prob_m1}\\nProbability that Male person buy Machine KP481 is {prob_m2}\\nProbability that Male person buy Machine KP781 is {prob_m3}')"
   ]
  },
  {
   "cell_type": "code",
   "execution_count": 30,
   "id": "568fb323",
   "metadata": {},
   "outputs": [
    {
     "name": "stdout",
     "output_type": "stream",
     "text": [
      "Probability that Female person buy Machine KP281 is 52.63\n",
      "Probability that Female person buy Machine KP481 is 38.16\n",
      "Probability that Female person buy Machine KP781 is 9.21\n"
     ]
    }
   ],
   "source": [
    "#checkng which machine is bought by Males most\n",
    "\n",
    "m_df = df[df['Gender'] == 'Female'][['Product','Gender']]\n",
    "M1 = m_df[m_df['Product']=='KP281']['Product'].count()\n",
    "M2 = m_df[m_df['Product']=='KP481']['Product'].count()\n",
    "M3 = m_df[m_df['Product']=='KP781']['Product'].count()\n",
    "\n",
    "prob_m1 = ((M1/(M1+M2+M3))*100).round(2)\n",
    "prob_m2 = ((M2/(M1+M2+M3))*100).round(2)\n",
    "prob_m3 = ((M3/(M1+M2+M3))*100).round(2)\n",
    "print(f'Probability that Female person buy Machine KP281 is {prob_m1}\\nProbability that Female person buy Machine KP481 is {prob_m2}\\nProbability that Female person buy Machine KP781 is {prob_m3}')"
   ]
  },
  {
   "cell_type": "code",
   "execution_count": 65,
   "id": "ad35b2e9",
   "metadata": {},
   "outputs": [
    {
     "name": "stdout",
     "output_type": "stream",
     "text": [
      "Male and Single:- 43\n",
      "Female and single:- 30\n",
      "Male and Partnered:- 61\n",
      "Female and Partnered:- 46\n",
      "\n",
      "\n",
      "Probability of Male who are Single buy product KP281:- 44.19%\n",
      "Probability of Male who are Single buy product KP481:- 23.26%\n",
      "Probability of Male who are Single buy product KP781:- 32.56%\n",
      "\n",
      "\n",
      "Probability of Male who are Partnered buy product KP281:- 34.43%\n",
      "Probability of Male who are Partnered buy product KP481:- 34.43%\n",
      "Probability of Male who are Partnered buy product KP781:- 31.15%\n",
      "\n",
      "\n",
      "Probability of Female who are Single buy product KP281:- 43.33%\n",
      "Probability of Female who are Single buy product KP481:- 46.67%\n",
      "Probability of Female who are Single buy product KP781:- 10.0%\n",
      "\n",
      "\n",
      "Probability of Female who are Partnered buy product KP281:- 58.7%\n",
      "Probability of Female who are Partnered buy product KP481:- 32.61%\n",
      "Probability of Female who are Partnered buy product KP781:- 8.7%\n"
     ]
    }
   ],
   "source": [
    "#male and single / male and partnered\n",
    "#female and single / female and partnered\n",
    "\n",
    "ms = df[df['Gender'] == 'Male'][['Product','Gender','MaritalStatus']]\n",
    "fs = df[df['Gender'] == 'Female'][['Product','Gender','MaritalStatus']]\n",
    "mscount = ms[ms['MaritalStatus']=='Single']['Gender'].count()\n",
    "fscount = fs[fs['MaritalStatus']=='Single']['Gender'].count()\n",
    "print(f'Male and Single:- {mscount}\\nFemale and single:- {fscount}')\n",
    "\n",
    "mp = df[df['Gender'] == 'Male'][['Product','Gender','MaritalStatus']]\n",
    "fp = df[df['Gender'] == 'Female'][['Product','Gender','MaritalStatus']]\n",
    "mpcount = mp[mp['MaritalStatus']=='Partnered']['Gender'].count()\n",
    "fpcount = fp[fp['MaritalStatus']=='Partnered']['Gender'].count()\n",
    "print(f'Male and Partnered:- {mpcount}\\nFemale and Partnered:- {fpcount}')\n",
    "print()\n",
    "print()\n",
    "\n",
    "#Male and Single\n",
    "k1 = ms[ms['MaritalStatus']=='Single']\n",
    "msP1 = k1[k1['Product']=='KP281']['Product'].count()\n",
    "msP2 = k1[k1['Product']=='KP481']['Product'].count()\n",
    "msP3 = k1[k1['Product']=='KP781']['Product'].count()\n",
    "\n",
    "total = msP1+msP2+msP3\n",
    "\n",
    "msP1_prob = round((msP1/(total))*100,2)\n",
    "msP2_prob = round((msP2/(total))*100,2)\n",
    "msP3_prob = round((msP3/(total))*100,2)\n",
    "print(f'Probability of Male who are Single buy product KP281:- {msP1_prob}%\\nProbability of Male who are Single buy product KP481:- {msP2_prob}%\\nProbability of Male who are Single buy product KP781:- {msP3_prob}%')\n",
    "print()\n",
    "print()\n",
    "\n",
    "#Male and Partnered\n",
    "\n",
    "k2 = mp[mp['MaritalStatus']=='Partnered']\n",
    "mpP1 = k2[k2['Product']=='KP281']['Product'].count()\n",
    "mpP2 = k2[k2['Product']=='KP481']['Product'].count()\n",
    "mpP3 = k2[k2['Product']=='KP781']['Product'].count()\n",
    "\n",
    "total = mpP1+mpP2+mpP3\n",
    "\n",
    "mpP1_prob = round((mpP1/(total))*100,2)\n",
    "mpP2_prob = round((mpP2/(total))*100,2)\n",
    "mpP3_prob = round((mpP3/(total))*100,2)\n",
    "print(f'Probability of Male who are Partnered buy product KP281:- {mpP1_prob}%\\nProbability of Male who are Partnered buy product KP481:- {mpP2_prob}%\\nProbability of Male who are Partnered buy product KP781:- {mpP3_prob}%')\n",
    "print()\n",
    "print()\n",
    "\n",
    "#Female and Single\n",
    "\n",
    "k3 = fs[fs['MaritalStatus']=='Single']\n",
    "fsP1 = k3[k3['Product']=='KP281']['Product'].count()\n",
    "fsP2 = k3[k3['Product']=='KP481']['Product'].count()\n",
    "fsP3 = k3[k3['Product']=='KP781']['Product'].count()\n",
    "\n",
    "total = fsP1+fsP2+fsP3\n",
    "\n",
    "fsP1_prob = round((fsP1/(total))*100,2)\n",
    "fsP2_prob = round((fsP2/(total))*100,2)\n",
    "fsP3_prob = round((fsP3/(total))*100,2)\n",
    "print(f'Probability of Female who are Single buy product KP281:- {fsP1_prob}%\\nProbability of Female who are Single buy product KP481:- {fsP2_prob}%\\nProbability of Female who are Single buy product KP781:- {fsP3_prob}%')\n",
    "print()\n",
    "print()\n",
    "\n",
    "#Female and Partnered\n",
    "\n",
    "k4 = fp[fp['MaritalStatus']=='Partnered']\n",
    "fpP1 = k4[k4['Product']=='KP281']['Product'].count()\n",
    "fpP2 = k4[k4['Product']=='KP481']['Product'].count()\n",
    "fpP3 = k4[k4['Product']=='KP781']['Product'].count()\n",
    "\n",
    "total = fpP1+fpP2+fpP3\n",
    "\n",
    "fpP1_prob = round((fpP1/(total))*100,2)\n",
    "fpP2_prob = round((fpP2/(total))*100,2)\n",
    "fpP3_prob = round((fpP3/(total))*100,2)\n",
    "print(f'Probability of Female who are Partnered buy product KP281:- {fpP1_prob}%\\nProbability of Female who are Partnered buy product KP481:- {fpP2_prob}%\\nProbability of Female who are Partnered buy product KP781:- {fpP3_prob}%')\n",
    "\n"
   ]
  },
  {
   "cell_type": "code",
   "execution_count": 31,
   "id": "e7cbbac8",
   "metadata": {},
   "outputs": [
    {
     "data": {
      "image/png": "[encoded data removed]",
      "text/plain": [
       "<Figure size 432x288 with 1 Axes>"
      ]
     },
     "metadata": {
      "needs_background": "light"
     },
     "output_type": "display_data"
    }
   ],
   "source": [
    "df.plot.scatter(x='Income',y='Product')\n",
    "plt.title('Income vs Product')\n",
    "plt.show()"
   ]
  },
  {
   "cell_type": "code",
   "execution_count": 33,
   "id": "f79b5705",
   "metadata": {},
   "outputs": [
    {
     "data": {
      "image/png": "[encoded data removed]",
      "text/plain": [
       "<Figure size 432x288 with 1 Axes>"
      ]
     },
     "metadata": {
      "needs_background": "light"
     },
     "output_type": "display_data"
    }
   ],
   "source": [
    "sns.histplot(data=df,x='Product',y='Income')\n",
    "plt.title('Income vs Product')\n",
    "plt.grid()\n",
    "plt.show()"
   ]
  },
  {
   "cell_type": "code",
   "execution_count": null,
   "id": "1c38ee29",
   "metadata": {},
   "outputs": [],
   "source": []
  }
 ],
 "metadata": {
  "kernelspec": {
   "display_name": "Python 3 (ipykernel)",
   "language": "python",
   "name": "python3"
  },
  "language_info": {
   "codemirror_mode": {
    "name": "ipython",
    "version": 3
   },
   "file_extension": ".py",
   "mimetype": "text/x-python",
   "name": "python",
   "nbconvert_exporter": "python",
   "pygments_lexer": "ipython3",
   "version": "3.10.4"
  }
 },
 "nbformat": 4,
 "nbformat_minor": 5
}
